{
 "cells": [
  {
   "cell_type": "code",
   "execution_count": 23,
   "id": "8e95c097-07d7-4244-b479-465e2614eca9",
   "metadata": {},
   "outputs": [
    {
     "name": "stdout",
     "output_type": "stream",
     "text": [
      "Welcome to ROCK, PAPER, SCISSORS.\n"
     ]
    },
    {
     "name": "stdin",
     "output_type": "stream",
     "text": [
      "Enter your move: (r)rock (p)paper (s)scissors: s\n"
     ]
    },
    {
     "name": "stdout",
     "output_type": "stream",
     "text": [
      "s verse...r\n",
      "You lose\n",
      "Welcome to ROCK, PAPER, SCISSORS.\n"
     ]
    },
    {
     "name": "stdin",
     "output_type": "stream",
     "text": [
      "Enter your move: (r)rock (p)paper (s)scissors: s\n"
     ]
    },
    {
     "name": "stdout",
     "output_type": "stream",
     "text": [
      "s verse...r\n",
      "You lose\n",
      "Welcome to ROCK, PAPER, SCISSORS.\n"
     ]
    },
    {
     "name": "stdin",
     "output_type": "stream",
     "text": [
      "Enter your move: (r)rock (p)paper (s)scissors: s\n"
     ]
    },
    {
     "name": "stdout",
     "output_type": "stream",
     "text": [
      "s verse...p\n",
      "You win!\n",
      " You have 0 ties and 2 losses before your first win.\n"
     ]
    }
   ],
   "source": [
    "import random\n",
    "\n",
    "losses = 0   # count lose time\n",
    "ties = 0     # count tie time\n",
    "state = 0    # state = 1 for win\n",
    "\n",
    "# while break when player win\n",
    "while(state != 1):\n",
    "    \n",
    "    print(\"Welcome to ROCK, PAPER, SCISSORS.\")\n",
    "    # player input a choice\n",
    "    player = str(input(\"Enter your move: (r)rock (p)paper (s)scissors:\"))\n",
    "    # give computer a random choice in r, p, s \n",
    "    com = random.choice(['r', 'p', 's']) \n",
    "\n",
    "    print(f\"{player} verse...{com}\" )\n",
    "    \n",
    "    # situation of player is r\n",
    "    if player == \"r\":  \n",
    "        # r v.s. r >> tie; count on tie number\n",
    "        if com == \"r\": \n",
    "            ties += 1\n",
    "            print(\"It is a tie.\")\n",
    "        # r v.s. p >> lose; count on lose number    \n",
    "        elif com == \"p\":\n",
    "            losses += 1\n",
    "            print(\"You lose\")\n",
    "        # r v.s. s >> win    \n",
    "        else :\n",
    "            state = 1\n",
    "            print (\"You win!\")\n",
    "\n",
    "    # situation of player is s\n",
    "    if player == \"s\":  \n",
    "        if com == \"s\": \n",
    "            ties += 1\n",
    "            print(\"It is a tie.\")\n",
    "        elif com == \"r\":\n",
    "            losses += 1\n",
    "            print(\"You lose\")\n",
    "        else :\n",
    "            state = 1\n",
    "            print (\"You win!\")\n",
    "            \n",
    "    # situation of player is p        \n",
    "    if player == \"p\":  \n",
    "        if com == \"p\":\n",
    "            ties += 1\n",
    "            print(\"It is a tie.\")\n",
    "        elif com == \"s\":\n",
    "            losses += 1\n",
    "            print(\"You lose\")\n",
    "        else :\n",
    "            state = 1\n",
    "            print (\"You win!\")\n",
    "            \n",
    "\n",
    "print(f' You have {ties} ties and {losses} losses before your first win.')\n",
    "\n",
    "    \n"
   ]
  }
 ],
 "metadata": {
  "kernelspec": {
   "display_name": "Python 3",
   "language": "python",
   "name": "python3"
  },
  "language_info": {
   "codemirror_mode": {
    "name": "ipython",
    "version": 3
   },
   "file_extension": ".py",
   "mimetype": "text/x-python",
   "name": "python",
   "nbconvert_exporter": "python",
   "pygments_lexer": "ipython3",
   "version": "3.8.8"
  }
 },
 "nbformat": 4,
 "nbformat_minor": 5
}
