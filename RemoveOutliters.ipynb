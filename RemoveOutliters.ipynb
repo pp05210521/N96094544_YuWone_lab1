{
 "cells": [
  {
   "cell_type": "code",
   "execution_count": 10,
   "id": "3a3f3d1e-0c2d-481f-bf19-968234fcc221",
   "metadata": {},
   "outputs": [],
   "source": [
    "def remove_outliters():\n",
    "    \n",
    "    # set original list\n",
    "    olist = [] \n",
    "    # how many number u wanna remove\n",
    "    remove_num = int(input(\"Enter the number of smallest and largest value to remove:\")) \n",
    "    # input a value or q for end of the entering\n",
    "    value = input(\"Enter a value (q or Q to quit):\")\n",
    "\n",
    "    while(value != \"q\" and value != \"Q\" ): \n",
    "        # add the input sequently, q or Q for quit\n",
    "        olist += [int(value)] \n",
    "        value = input(\"Enter a value (q or Q to quit):\")\n",
    "\n",
    "    print (f\"The original data: {olist}\")\n",
    "\n",
    "    new_list = sorted(olist) # sorted\n",
    "    remove = [] # set a remove list\n",
    "    \n",
    "    # add removing number in forward into remove list\n",
    "    for i in range (0, remove_num): \n",
    "        remove += [int(new_list[i])]\n",
    "    # add removing number in backward into remove list    \n",
    "    for j in range (len(new_list)-remove_num, len(new_list)): \n",
    "        remove += [int(new_list[j])]\n",
    "\n",
    "    \n",
    "    # remove the number from original list\n",
    "    for k in range (0 , len(remove)): \n",
    "        olist.remove(remove[k]) \n",
    "\n",
    "    print (f'The data with the outliters removed:{olist}')\n",
    "    print (f'The outliters: {remove}')\n",
    "\n",
    "\n"
   ]
  },
  {
   "cell_type": "code",
   "execution_count": 12,
   "id": "b76b573e-4a9b-428d-ab6d-ad72fd9173ab",
   "metadata": {},
   "outputs": [
    {
     "name": "stdin",
     "output_type": "stream",
     "text": [
      "Enter the number of smallest and largest value to remove: 2\n",
      "Enter a value (q or Q to quit): 2\n",
      "Enter a value (q or Q to quit): 1001\n",
      "Enter a value (q or Q to quit): 2001\n",
      "Enter a value (q or Q to quit): 1\n",
      "Enter a value (q or Q to quit): 2\n",
      "Enter a value (q or Q to quit): -1001\n",
      "Enter a value (q or Q to quit): -20\n",
      "Enter a value (q or Q to quit): 5\n",
      "Enter a value (q or Q to quit): 4\n",
      "Enter a value (q or Q to quit): 3\n",
      "Enter a value (q or Q to quit): 1\n",
      "Enter a value (q or Q to quit): 2\n",
      "Enter a value (q or Q to quit): 3\n",
      "Enter a value (q or Q to quit): q\n"
     ]
    },
    {
     "name": "stdout",
     "output_type": "stream",
     "text": [
      "The original data: [2, 1001, 2001, 1, 2, -1001, -20, 5, 4, 3, 1, 2, 3]\n",
      "The data with the outliters removed:[2, 1, 2, 5, 4, 3, 1, 2, 3]\n",
      "The outliters: [-1001, -20, 1001, 2001]\n"
     ]
    }
   ],
   "source": [
    "remove_outliters()"
   ]
  }
 ],
 "metadata": {
  "kernelspec": {
   "display_name": "Python 3",
   "language": "python",
   "name": "python3"
  },
  "language_info": {
   "codemirror_mode": {
    "name": "ipython",
    "version": 3
   },
   "file_extension": ".py",
   "mimetype": "text/x-python",
   "name": "python",
   "nbconvert_exporter": "python",
   "pygments_lexer": "ipython3",
   "version": "3.8.8"
  }
 },
 "nbformat": 4,
 "nbformat_minor": 5
}
