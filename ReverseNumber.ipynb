{
 "cells": [
  {
   "cell_type": "code",
   "execution_count": 1,
   "id": "ebc1b746-8b8b-4847-80ee-3b9b3c6a1bf6",
   "metadata": {},
   "outputs": [
    {
     "name": "stdin",
     "output_type": "stream",
     "text": [
      "Enter an interger: 9876543210\n"
     ]
    },
    {
     "name": "stdout",
     "output_type": "stream",
     "text": [
      "0123456789\n"
     ]
    }
   ],
   "source": [
    "'''--------------------------define function--------------------------------'''\n",
    "\n",
    "def reverse(number):\n",
    "    '''reverse a number'''\n",
    "    # transfer int to str reverse the seq\n",
    "    string = str(number)[::-1] \n",
    "    # transfer str back to int and print\n",
    "    print(\"\".join(string)) \n",
    "    \n",
    "'''-------------------------------execute-----------------------------------'''    \n",
    "\n",
    "num = int(input(\"Enter an interger:\"))\n",
    "reverse(num)\n"
   ]
  },
  {
   "cell_type": "code",
   "execution_count": 23,
   "id": "32cb4ac1-2d76-4934-80fa-bfaadc54e070",
   "metadata": {},
   "outputs": [],
   "source": [
    "'''Another way by using % and // '''\n",
    "\n",
    "def reverse(number):\n",
    "    \n",
    "    # set a empty list\n",
    "    reverse_list = []\n",
    "    \n",
    "    # while break when finish all digits\n",
    "    while(number>1):\n",
    "        # calculate first digit, putting it into a list and then remove it\n",
    "        reverse_list += [number%10]\n",
    "        number = number // 10\n",
    "        \n",
    "        # print the number in list \n",
    "    for i in range (0, len(reverse_list)):\n",
    "        print(reverse_list[i], end='')\n",
    "\n",
    "        "
   ]
  },
  {
   "cell_type": "code",
   "execution_count": 22,
   "id": "c588f2c4-c11c-4ec5-9cab-c7dc642bf140",
   "metadata": {},
   "outputs": [
    {
     "name": "stdin",
     "output_type": "stream",
     "text": [
      "Enter an interger: 9876543210\n"
     ]
    },
    {
     "name": "stdout",
     "output_type": "stream",
     "text": [
      "0123456789"
     ]
    }
   ],
   "source": [
    "num = int(input(\"Enter an interger:\"))\n",
    "reverse(num)"
   ]
  }
 ],
 "metadata": {
  "kernelspec": {
   "display_name": "Python 3",
   "language": "python",
   "name": "python3"
  },
  "language_info": {
   "codemirror_mode": {
    "name": "ipython",
    "version": 3
   },
   "file_extension": ".py",
   "mimetype": "text/x-python",
   "name": "python",
   "nbconvert_exporter": "python",
   "pygments_lexer": "ipython3",
   "version": "3.8.8"
  }
 },
 "nbformat": 4,
 "nbformat_minor": 5
}
